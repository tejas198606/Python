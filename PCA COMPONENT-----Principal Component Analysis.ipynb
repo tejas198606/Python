{
 "cells": [
  {
   "cell_type": "code",
   "execution_count": 1,
   "metadata": {},
   "outputs": [],
   "source": [
    "import pandas as pd\n",
    "import numpy as np\n",
    "import seaborn as sn\n",
    "from scipy import stats\n",
    "import matplotlib.pyplot as plt\n",
    "%matplotlib inline"
   ]
  },
  {
   "cell_type": "code",
   "execution_count": 16,
   "metadata": {},
   "outputs": [
    {
     "data": {
      "text/html": [
       "<div>\n",
       "<style scoped>\n",
       "    .dataframe tbody tr th:only-of-type {\n",
       "        vertical-align: middle;\n",
       "    }\n",
       "\n",
       "    .dataframe tbody tr th {\n",
       "        vertical-align: top;\n",
       "    }\n",
       "\n",
       "    .dataframe thead th {\n",
       "        text-align: right;\n",
       "    }\n",
       "</style>\n",
       "<table border=\"1\" class=\"dataframe\">\n",
       "  <thead>\n",
       "    <tr style=\"text-align: right;\">\n",
       "      <th></th>\n",
       "      <th>fixed acidity</th>\n",
       "      <th>volatile acidity</th>\n",
       "      <th>citric acid</th>\n",
       "      <th>residual sugar</th>\n",
       "      <th>chlorides</th>\n",
       "      <th>free sulfur dioxide</th>\n",
       "      <th>total sulfur dioxide</th>\n",
       "      <th>density</th>\n",
       "      <th>pH</th>\n",
       "      <th>sulphates</th>\n",
       "      <th>alcohol</th>\n",
       "      <th>quality</th>\n",
       "    </tr>\n",
       "  </thead>\n",
       "  <tbody>\n",
       "    <tr>\n",
       "      <th>0</th>\n",
       "      <td>7.4</td>\n",
       "      <td>0.70</td>\n",
       "      <td>0.0</td>\n",
       "      <td>1.9</td>\n",
       "      <td>0.076</td>\n",
       "      <td>11.0</td>\n",
       "      <td>34.0</td>\n",
       "      <td>0.9978</td>\n",
       "      <td>3.51</td>\n",
       "      <td>0.56</td>\n",
       "      <td>9.4</td>\n",
       "      <td>5</td>\n",
       "    </tr>\n",
       "    <tr>\n",
       "      <th>1</th>\n",
       "      <td>7.8</td>\n",
       "      <td>0.88</td>\n",
       "      <td>0.0</td>\n",
       "      <td>2.6</td>\n",
       "      <td>0.098</td>\n",
       "      <td>25.0</td>\n",
       "      <td>67.0</td>\n",
       "      <td>0.9968</td>\n",
       "      <td>3.20</td>\n",
       "      <td>0.68</td>\n",
       "      <td>9.8</td>\n",
       "      <td>5</td>\n",
       "    </tr>\n",
       "  </tbody>\n",
       "</table>\n",
       "</div>"
      ],
      "text/plain": [
       "   fixed acidity  volatile acidity  citric acid  residual sugar  chlorides  \\\n",
       "0            7.4              0.70          0.0             1.9      0.076   \n",
       "1            7.8              0.88          0.0             2.6      0.098   \n",
       "\n",
       "   free sulfur dioxide  total sulfur dioxide  density    pH  sulphates  \\\n",
       "0                 11.0                  34.0   0.9978  3.51       0.56   \n",
       "1                 25.0                  67.0   0.9968  3.20       0.68   \n",
       "\n",
       "   alcohol  quality  \n",
       "0      9.4        5  \n",
       "1      9.8        5  "
      ]
     },
     "execution_count": 16,
     "metadata": {},
     "output_type": "execute_result"
    }
   ],
   "source": [
    "df1=pd.read_csv(\"wine.csv\")\n",
    "df1.head(2)"
   ]
  },
  {
   "cell_type": "code",
   "execution_count": 17,
   "metadata": {},
   "outputs": [
    {
     "data": {
      "text/plain": [
       "(1599, 12)"
      ]
     },
     "execution_count": 17,
     "metadata": {},
     "output_type": "execute_result"
    }
   ],
   "source": [
    "df1.shape"
   ]
  },
  {
   "cell_type": "code",
   "execution_count": 30,
   "metadata": {},
   "outputs": [
    {
     "data": {
      "text/html": [
       "<div>\n",
       "<style scoped>\n",
       "    .dataframe tbody tr th:only-of-type {\n",
       "        vertical-align: middle;\n",
       "    }\n",
       "\n",
       "    .dataframe tbody tr th {\n",
       "        vertical-align: top;\n",
       "    }\n",
       "\n",
       "    .dataframe thead th {\n",
       "        text-align: right;\n",
       "    }\n",
       "</style>\n",
       "<table border=\"1\" class=\"dataframe\">\n",
       "  <thead>\n",
       "    <tr style=\"text-align: right;\">\n",
       "      <th></th>\n",
       "      <th>fixed acidity</th>\n",
       "      <th>volatile acidity</th>\n",
       "      <th>citric acid</th>\n",
       "      <th>residual sugar</th>\n",
       "      <th>chlorides</th>\n",
       "      <th>free sulfur dioxide</th>\n",
       "      <th>total sulfur dioxide</th>\n",
       "      <th>density</th>\n",
       "      <th>pH</th>\n",
       "      <th>sulphates</th>\n",
       "      <th>alcohol</th>\n",
       "      <th>quality</th>\n",
       "    </tr>\n",
       "  </thead>\n",
       "  <tbody>\n",
       "    <tr>\n",
       "      <th>0</th>\n",
       "      <td>7.4</td>\n",
       "      <td>0.70</td>\n",
       "      <td>0.0</td>\n",
       "      <td>1.9</td>\n",
       "      <td>0.076</td>\n",
       "      <td>11.0</td>\n",
       "      <td>34.0</td>\n",
       "      <td>0.9978</td>\n",
       "      <td>3.51</td>\n",
       "      <td>0.56</td>\n",
       "      <td>9.4</td>\n",
       "      <td>5</td>\n",
       "    </tr>\n",
       "    <tr>\n",
       "      <th>1</th>\n",
       "      <td>7.8</td>\n",
       "      <td>0.88</td>\n",
       "      <td>0.0</td>\n",
       "      <td>2.6</td>\n",
       "      <td>0.098</td>\n",
       "      <td>25.0</td>\n",
       "      <td>67.0</td>\n",
       "      <td>0.9968</td>\n",
       "      <td>3.20</td>\n",
       "      <td>0.68</td>\n",
       "      <td>9.8</td>\n",
       "      <td>5</td>\n",
       "    </tr>\n",
       "  </tbody>\n",
       "</table>\n",
       "</div>"
      ],
      "text/plain": [
       "   fixed acidity  volatile acidity  citric acid  residual sugar  chlorides  \\\n",
       "0            7.4              0.70          0.0             1.9      0.076   \n",
       "1            7.8              0.88          0.0             2.6      0.098   \n",
       "\n",
       "   free sulfur dioxide  total sulfur dioxide  density    pH  sulphates  \\\n",
       "0                 11.0                  34.0   0.9978  3.51       0.56   \n",
       "1                 25.0                  67.0   0.9968  3.20       0.68   \n",
       "\n",
       "   alcohol  quality  \n",
       "0      9.4        5  \n",
       "1      9.8        5  "
      ]
     },
     "execution_count": 30,
     "metadata": {},
     "output_type": "execute_result"
    }
   ],
   "source": [
    "X=df1.iloc[:,0:12]\n",
    "X\n",
    "X.head(2)"
   ]
  },
  {
   "cell_type": "code",
   "execution_count": 31,
   "metadata": {},
   "outputs": [
    {
     "data": {
      "text/plain": [
       "0    5\n",
       "1    5\n",
       "Name: quality, dtype: int64"
      ]
     },
     "execution_count": 31,
     "metadata": {},
     "output_type": "execute_result"
    }
   ],
   "source": [
    "y=df1.iloc[:,11]\n",
    "y\n",
    "y.head(2)"
   ]
  },
  {
   "cell_type": "code",
   "execution_count": 32,
   "metadata": {},
   "outputs": [],
   "source": [
    "from sklearn.model_selection import train_test_split \n",
    "X_train, X_test, y_train, y_test = train_test_split(x,y,test_size =0.2)"
   ]
  },
  {
   "cell_type": "code",
   "execution_count": null,
   "metadata": {},
   "outputs": [],
   "source": [
    "from sklearn.preprocessing import StandardScaler \n",
    "sc = StandardScaler() \n",
    "  \n",
    "X_train = sc.fit_transform(X_train) \n",
    "X_test = sc.transform(X_test) "
   ]
  },
  {
   "cell_type": "code",
   "execution_count": 33,
   "metadata": {},
   "outputs": [],
   "source": [
    "from sklearn.decomposition import PCA \n",
    "pca = PCA(n_components=3) \n",
    "  \n",
    "X_train = pca.fit_transform(X_train) \n",
    "X_test = pca.fit_transform(X_test) "
   ]
  },
  {
   "cell_type": "code",
   "execution_count": 39,
   "metadata": {},
   "outputs": [
    {
     "data": {
      "text/plain": [
       "array([[-1.32220266e+01, -2.03192212e+00, -1.18123474e+00, ...,\n",
       "        -2.77742622e-03,  8.23876781e-03,  2.60793425e-04],\n",
       "       [ 2.20402547e+01,  4.40179054e+00, -3.54990694e-01, ...,\n",
       "        -7.84602203e-02, -1.62086066e-02,  2.39582813e-04],\n",
       "       [ 7.16536169e+00, -2.50832073e+00, -6.24637674e-01, ...,\n",
       "        -8.23829388e-02, -7.12702297e-03,  3.40432014e-04],\n",
       "       ...,\n",
       "       [-3.43293096e+00,  1.42742769e+01, -1.73227854e+00, ...,\n",
       "        -1.72133981e-02, -1.64011747e-02,  1.02886553e-03],\n",
       "       [ 1.13557385e+00,  1.63076924e+01, -2.18955318e+00, ...,\n",
       "         1.10876236e-01, -2.59750147e-02, -2.80147816e-04],\n",
       "       [-3.87592057e+00,  3.13011173e+00, -1.84248483e+00, ...,\n",
       "         1.20299757e-01, -3.72970934e-02,  8.34088111e-04]])"
      ]
     },
     "execution_count": 39,
     "metadata": {},
     "output_type": "execute_result"
    }
   ],
   "source": [
    "from sklearn.decomposition import PCA\n",
    "pca = PCA()\n",
    "pca.fit_transform(x)"
   ]
  },
  {
   "cell_type": "code",
   "execution_count": 35,
   "metadata": {},
   "outputs": [
    {
     "data": {
      "text/plain": [
       "array([[ 3.03141639e+00, -7.98514168e-02,  2.27820004e-01,\n",
       "         2.81756262e-01,  7.67869249e-03, -2.80092149e+00,\n",
       "        -6.48234586e+00,  2.19522358e-03, -1.83585704e-01,\n",
       "         5.40100916e-02, -1.14421153e-01,  1.74423588e-01],\n",
       "       [-7.98514168e-02,  3.20623777e-02, -1.92716208e-02,\n",
       "         4.84190976e-04,  5.16586920e-04, -1.96735904e-02,\n",
       "         4.50425692e-01,  7.44366516e-06,  6.49469930e-03,\n",
       "        -7.92143384e-03, -3.86002214e-02, -5.64758833e-02],\n",
       "       [ 2.27820004e-01, -1.92716208e-02,  3.79474831e-02,\n",
       "         3.94342700e-02,  1.86872478e-03, -1.24252114e-01,\n",
       "         2.27697274e-01,  1.34174581e-04, -1.62975823e-02,\n",
       "         1.03277145e-02,  2.28151729e-02,  3.56118929e-02],\n",
       "       [ 2.81756262e-01,  4.84190976e-04,  3.94342700e-02,\n",
       "         1.98789713e+00,  3.69017590e-03,  2.75861145e+00,\n",
       "         9.41644148e+00,  9.45410862e-04, -1.86442890e-02,\n",
       "         1.32094136e-03,  6.32189598e-02,  1.56350457e-02],\n",
       "       [ 7.67869249e-03,  5.16586920e-04,  1.86872478e-03,\n",
       "         3.69017590e-03,  2.21514265e-03,  2.73830308e-03,\n",
       "         7.33867502e-02,  1.78217568e-05, -1.92574496e-03,\n",
       "         2.96187795e-03, -1.10915178e-02, -4.89954493e-03],\n",
       "       [-2.80092149e+00, -1.96735904e-02, -1.24252114e-01,\n",
       "         2.75861145e+00,  2.73830308e-03,  1.09414884e+02,\n",
       "         2.29737521e+02, -4.33250416e-04,  1.13653091e-01,\n",
       "         9.15924710e-02, -7.73698400e-01, -4.27907070e-01],\n",
       "       [-6.48234586e+00,  4.50425692e-01,  2.27697274e-01,\n",
       "         9.41644148e+00,  7.33867502e-02,  2.29737521e+02,\n",
       "         1.08210237e+03,  4.42472714e-03, -3.37698793e-01,\n",
       "         2.39471005e-01, -7.20929789e+00, -4.91723707e+00],\n",
       "       [ 2.19522358e-03,  7.44366516e-06,  1.34174581e-04,\n",
       "         9.45410862e-04,  1.78217568e-05, -4.33250416e-04,\n",
       "         4.42472714e-03,  3.56202945e-06, -9.95639480e-05,\n",
       "         4.75096185e-05, -9.97951790e-04, -2.66603705e-04],\n",
       "       [-1.83585704e-01,  6.49469930e-03, -1.62975823e-02,\n",
       "        -1.86442890e-02, -1.92574496e-03,  1.13653091e-01,\n",
       "        -3.37698793e-01, -9.95639480e-05,  2.38351805e-02,\n",
       "        -5.14618582e-03,  3.38316166e-02, -7.19782232e-03],\n",
       "       [ 5.40100916e-02, -7.92143384e-03,  1.03277145e-02,\n",
       "         1.32094136e-03,  2.96187795e-03,  9.15924710e-02,\n",
       "         2.39471005e-01,  4.75096185e-05, -5.14618582e-03,\n",
       "         2.87326161e-02,  1.69067772e-02,  3.44134084e-02],\n",
       "       [-1.14421153e-01, -3.86002214e-02,  2.28151729e-02,\n",
       "         6.32189598e-02, -1.10915178e-02, -7.73698400e-01,\n",
       "        -7.20929789e+00, -9.97951790e-04,  3.38316166e-02,\n",
       "         1.69067772e-02,  1.13564740e+00,  4.09789011e-01],\n",
       "       [ 1.74423588e-01, -5.64758833e-02,  3.56118929e-02,\n",
       "         1.56350457e-02, -4.89954493e-03, -4.27907070e-01,\n",
       "        -4.91723707e+00, -2.66603705e-04, -7.19782232e-03,\n",
       "         3.44134084e-02,  4.09789011e-01,  6.52168400e-01]])"
      ]
     },
     "execution_count": 35,
     "metadata": {},
     "output_type": "execute_result"
    }
   ],
   "source": [
    "pca.get_covariance()"
   ]
  },
  {
   "cell_type": "code",
   "execution_count": 36,
   "metadata": {},
   "outputs": [
    {
     "data": {
      "text/plain": [
       "array([9.46079514e-01, 4.83483474e-02, 2.59599087e-03, 1.52288677e-03,\n",
       "       1.04910404e-03, 3.34987986e-04, 3.10082440e-05, 1.93440109e-05,\n",
       "       9.43889374e-06, 8.17881393e-06, 1.19899823e-06, 4.68306222e-10])"
      ]
     },
     "execution_count": 36,
     "metadata": {},
     "output_type": "execute_result"
    }
   ],
   "source": [
    "variance=pca.explained_variance_ratio_\n",
    "variance"
   ]
  },
  {
   "cell_type": "code",
   "execution_count": 1,
   "metadata": {},
   "outputs": [
    {
     "ename": "NameError",
     "evalue": "name 'sn' is not defined",
     "output_type": "error",
     "traceback": [
      "\u001b[1;31m---------------------------------------------------------------------------\u001b[0m",
      "\u001b[1;31mNameError\u001b[0m                                 Traceback (most recent call last)",
      "\u001b[1;32m<ipython-input-1-2ba6e92c9553>\u001b[0m in \u001b[0;36m<module>\u001b[1;34m\u001b[0m\n\u001b[1;32m----> 1\u001b[1;33m \u001b[0msn\u001b[0m\u001b[1;33m.\u001b[0m\u001b[0mscatterplot\u001b[0m\u001b[1;33m(\u001b[0m\u001b[0mx\u001b[0m\u001b[1;33m[\u001b[0m\u001b[1;33m:\u001b[0m\u001b[1;33m,\u001b[0m\u001b[1;36m0\u001b[0m\u001b[1;33m]\u001b[0m\u001b[1;33m,\u001b[0m\u001b[0mx\u001b[0m\u001b[1;33m[\u001b[0m\u001b[1;33m:\u001b[0m\u001b[1;33m,\u001b[0m\u001b[1;36m1\u001b[0m\u001b[1;33m]\u001b[0m\u001b[1;33m,\u001b[0m\u001b[0mmarker\u001b[0m\u001b[1;33m=\u001b[0m\u001b[1;34m\".\"\u001b[0m\u001b[1;33m)\u001b[0m\u001b[1;33m\u001b[0m\u001b[1;33m\u001b[0m\u001b[0m\n\u001b[0m",
      "\u001b[1;31mNameError\u001b[0m: name 'sn' is not defined"
     ]
    }
   ],
   "source": [
    "sn.scatterplot(x[:,0],x[:,1],marker=\".\")\n"
   ]
  },
  {
   "cell_type": "code",
   "execution_count": 43,
   "metadata": {},
   "outputs": [],
   "source": [
    "from sklearn.linear_model import LogisticRegression   \n",
    "model1=LogisticRegression()"
   ]
  },
  {
   "cell_type": "code",
   "execution_count": 44,
   "metadata": {},
   "outputs": [
    {
     "name": "stderr",
     "output_type": "stream",
     "text": [
      "E:\\ANACONDA\\lib\\site-packages\\sklearn\\linear_model\\logistic.py:432: FutureWarning: Default solver will be changed to 'lbfgs' in 0.22. Specify a solver to silence this warning.\n",
      "  FutureWarning)\n",
      "E:\\ANACONDA\\lib\\site-packages\\sklearn\\linear_model\\logistic.py:469: FutureWarning: Default multi_class will be changed to 'auto' in 0.22. Specify the multi_class option to silence this warning.\n",
      "  \"this warning.\", FutureWarning)\n"
     ]
    },
    {
     "data": {
      "text/plain": [
       "LogisticRegression(C=1.0, class_weight=None, dual=False, fit_intercept=True,\n",
       "                   intercept_scaling=1, l1_ratio=None, max_iter=100,\n",
       "                   multi_class='warn', n_jobs=None, penalty='l2',\n",
       "                   random_state=None, solver='warn', tol=0.0001, verbose=0,\n",
       "                   warm_start=False)"
      ]
     },
     "execution_count": 44,
     "metadata": {},
     "output_type": "execute_result"
    }
   ],
   "source": [
    "model1.fit(X_train, y_train) "
   ]
  },
  {
   "cell_type": "code",
   "execution_count": 45,
   "metadata": {},
   "outputs": [
    {
     "data": {
      "text/plain": [
       "0.515625"
      ]
     },
     "execution_count": 45,
     "metadata": {},
     "output_type": "execute_result"
    }
   ],
   "source": [
    "model1.score(X_test, y_test) "
   ]
  },
  {
   "cell_type": "code",
   "execution_count": 46,
   "metadata": {},
   "outputs": [
    {
     "data": {
      "text/plain": [
       "array([5, 6, 6, 6, 6, 5, 5, 5, 6, 6, 5, 5, 6, 6, 6, 5, 6, 6, 6, 6, 6, 5,\n",
       "       6, 5, 5, 6, 6, 5, 6, 5, 6, 5, 5, 5, 5, 6, 6, 5, 6, 5, 6, 5, 6, 6,\n",
       "       5, 5, 5, 6, 6, 6, 6, 6, 6, 6, 5, 5, 6, 6, 5, 6, 5, 5, 6, 6, 5, 5,\n",
       "       6, 6, 6, 5, 6, 5, 6, 6, 5, 6, 6, 6, 6, 6, 6, 5, 5, 6, 6, 6, 5, 6,\n",
       "       5, 6, 6, 5, 6, 6, 6, 6, 6, 6, 5, 6, 5, 6, 6, 6, 6, 6, 6, 5, 6, 6,\n",
       "       6, 6, 6, 6, 6, 5, 6, 5, 6, 6, 5, 6, 5, 5, 6, 6, 5, 6, 6, 5, 5, 5,\n",
       "       6, 5, 6, 6, 6, 6, 5, 6, 5, 6, 5, 6, 6, 5, 5, 6, 5, 5, 5, 5, 5, 6,\n",
       "       5, 5, 5, 6, 6, 6, 6, 5, 5, 5, 6, 5, 6, 6, 6, 6, 5, 6, 6, 6, 6, 6,\n",
       "       5, 5, 6, 6, 6, 6, 6, 6, 6, 6, 5, 6, 6, 6, 5, 6, 6, 6, 6, 6, 5, 6,\n",
       "       6, 6, 6, 6, 6, 6, 6, 5, 6, 6, 6, 5, 6, 5, 5, 5, 6, 6, 5, 6, 6, 6,\n",
       "       5, 6, 5, 6, 6, 5, 6, 5, 5, 6, 6, 5, 5, 6, 5, 5, 6, 6, 5, 5, 6, 6,\n",
       "       5, 6, 6, 5, 6, 5, 6, 5, 6, 5, 5, 5, 6, 5, 6, 6, 5, 6, 6, 6, 6, 6,\n",
       "       6, 5, 6, 6, 5, 6, 6, 6, 5, 6, 6, 5, 6, 6, 6, 5, 5, 6, 6, 5, 6, 6,\n",
       "       6, 6, 6, 6, 6, 6, 6, 6, 5, 6, 6, 6, 5, 5, 5, 6, 6, 5, 5, 6, 5, 6,\n",
       "       6, 5, 6, 5, 6, 6, 5, 6, 6, 6, 6, 5], dtype=int64)"
      ]
     },
     "execution_count": 46,
     "metadata": {},
     "output_type": "execute_result"
    }
   ],
   "source": [
    "model1.predict(X_test) "
   ]
  },
  {
   "cell_type": "code",
   "execution_count": 47,
   "metadata": {},
   "outputs": [],
   "source": [
    "y_pred=model1.predict(X_test) "
   ]
  },
  {
   "cell_type": "code",
   "execution_count": 27,
   "metadata": {},
   "outputs": [],
   "source": [
    "from sklearn.metrics import confusion_matrix \n",
    "cm = confusion_matrix(y_test, y_pred) "
   ]
  },
  {
   "cell_type": "code",
   "execution_count": 28,
   "metadata": {},
   "outputs": [],
   "source": [
    "from matplotlib.colors import ListedColormap \n",
    "X_set, y_set = X_test, y_test "
   ]
  },
  {
   "cell_type": "code",
   "execution_count": 29,
   "metadata": {},
   "outputs": [
    {
     "data": {
      "text/plain": [
       "<matplotlib.axes._subplots.AxesSubplot at 0xa2fc99d048>"
      ]
     },
     "execution_count": 29,
     "metadata": {},
     "output_type": "execute_result"
    },
    {
     "data": {
      "image/png": "[encoded data removed]",
      "text/plain": [
       "<Figure size 432x288 with 2 Axes>"
      ]
     },
     "metadata": {
      "needs_background": "light"
     },
     "output_type": "display_data"
    }
   ],
   "source": [
    "sn.heatmap(cm,annot=True)"
   ]
  },
  {
   "cell_type": "code",
   "execution_count": 28,
   "metadata": {},
   "outputs": [
    {
     "name": "stderr",
     "output_type": "stream",
     "text": [
      "No handles with labels found to put in legend.\n"
     ]
    },
    {
     "data": {
      "image/png": "[encoded data removed]",
      "text/plain": [
       "<Figure size 432x288 with 1 Axes>"
      ]
     },
     "metadata": {
      "needs_background": "light"
     },
     "output_type": "display_data"
    }
   ],
   "source": [
    "plt.figure(figsize=(6, 4))\n",
    "plt.bar(variance,height=1)\n",
    "plt.ylabel('Explained variance ratio')\n",
    "plt.xlabel('Principal components')\n",
    "plt.legend(loc='best')\n",
    "plt.tight_layout()"
   ]
  },
  {
   "cell_type": "code",
   "execution_count": null,
   "metadata": {},
   "outputs": [],
   "source": [
    "from sklearn.metrics import roc_curve,auc\n",
    "fpr,tpr,thresholds=roc_curve(y_predict,y_test)\n",
    "roc_auc=auc(fpr, tpr)"
   ]
  },
  {
   "cell_type": "code",
   "execution_count": null,
   "metadata": {},
   "outputs": [],
   "source": [
    "plt.figure()\n",
    "plt.plot(fpr,tpr,color='red')\n",
    "plt.xlabel('False Positive Rate')\n",
    "plt.ylabel('True Positive Rate')\n",
    "plt.title('Receiver operating characteristic')"
   ]
  }
 ],
 "metadata": {
  "kernelspec": {
   "display_name": "Python 3",
   "language": "python",
   "name": "python3"
  },
  "language_info": {
   "codemirror_mode": {
    "name": "ipython",
    "version": 3
   },
   "file_extension": ".py",
   "mimetype": "text/x-python",
   "name": "python",
   "nbconvert_exporter": "python",
   "pygments_lexer": "ipython3",
   "version": "3.7.3"
  }
 },
 "nbformat": 4,
 "nbformat_minor": 2
}
